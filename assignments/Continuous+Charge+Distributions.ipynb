{
 "cells": [
  {
   "cell_type": "code",
   "execution_count": 1,
   "metadata": {
    "collapsed": true,
    "hideCode": false
   },
   "outputs": [],
   "source": [
    "\n",
    "from __future__ import print_function\n",
    "from ipywidgets import interact, interactive, fixed, interact_manual\n",
    "import ipywidgets as widgets\n",
    "\n",
    "from matplotlib import pyplot\n",
    "import numpy\n",
    "\n",
    "import electrostatics\n",
    "from electrostatics import LineCharge\n",
    "from electrostatics import GaussianCircle, ElectricField\n",
    "from electrostatics import finalize_plot\n"
   ]
  },
  {
   "cell_type": "code",
   "execution_count": 2,
   "metadata": {
    "collapsed": true,
    "hideCode": false
   },
   "outputs": [],
   "source": [
    "\n",
    "def reimannsum(fct,a,b,n):\n",
    "        k =8.99e9\n",
    "        h = (b-a)/n\n",
    "        x = [a+h*(i+.5) for i in range(n)]\n",
    "        x = numpy.array(x)\n",
    "        y = fct(x,1e-6)*h\n",
    "        #print(x)\n",
    "       # print(y)\n",
    "        return numpy.sum(y)\n",
    "        \n",
    "        \n",
    "def lineonaxis(x,lam):\n",
    "    k = 8.99e9\n",
    "    return k*lam/x**2\n",
    "\n",
    "def riemannplot(fct,a,b,n,lam):\n",
    "  if n<=0:\n",
    "    print(\"Error: n must be positive\")\n",
    "    return False\n",
    "  smoothh= (b-a)/100.0\n",
    "  x = numpy.arange(a,b+smoothh,smoothh)\n",
    "  pyplot.plot(x,fct(x,lam))\n",
    "  h = (b-a)/n\n",
    "  #print(h)\n",
    "  riemannx = numpy.arange(a,b,h)\n",
    "  #print(riemannx)\n",
    "  riemanny = fct(riemannx,lam)\n",
    "  pyplot.bar(riemannx,riemanny,width=h,alpha=0.5,facecolor='orange')\n",
    "  pyplot.xlabel('x')\n",
    "  pyplot.ylabel('f(x)')\n",
    "  pyplot.title('Riemann Left Sum for f(x)')\n",
    "  #pyplot.xlim(-1,2)\n",
    "  pyplot.show()\n",
    "\n",
    "\n",
    "\n",
    "def f(x):\n",
    "  return x**3-2*x**2+0.5*x+0.5"
   ]
  },
  {
   "cell_type": "code",
   "execution_count": 3,
   "metadata": {},
   "outputs": [
    {
     "data": {
      "application/vnd.jupyter.widget-view+json": {
       "model_id": "accc3660ef7a434b805c5db8517e51c2"
      }
     },
     "metadata": {},
     "output_type": "display_data"
    }
   ],
   "source": [
    "def in_func(n):\n",
    "    riemannplot(lineonaxis,2.0,5.0,n,1e-6)\n",
    "    print(\"the value of the reimann sum where n =\",n,\"is\",reimannsum(lineonaxis,2,5,n),\"N/C\")\n",
    "    \n",
    "i = interact(in_func,n=(2,350,2))"
   ]
  },
  {
   "cell_type": "markdown",
   "metadata": {
    "collapsed": true
   },
   "source": [
    "# Electric field by numerical approximation\n",
    "\n",
    "A thin rod has length $L$ and total charge $Q$ spread uniformly along its length.  Find the electric field a a point, $P$, a distance, $d$, from the left end of the rod.  \n",
    "\n",
    "Consider breaking this rod into short segments each with the same length as in the image below.\n",
    "\n",
    "![alt text](rod_reimann.png \"Title\")\n",
    "\n",
    "## Exercise Set 1\n",
    "\n",
    "1. Find the charge, $\\Delta Q$ on each segment.\n",
    "+ Find the distance, $x_i$, the centre of each segment is from the point $P$.\n",
    "+ Treating each segment as a point charge centred at its centre point, calculate the electric field at $P$ for each segment.\n",
    "+ Show that the total field at the point $P$ is\n",
    "\\begin{equation}\n",
    " E = \\displaystyle\\sum_{i=0}^n \\frac{k\\lambda \\Delta x}{x_i^2},\n",
    "\\end{equation}\n",
    "where $\\lambda = Q/L$ is **the Linear Charge Density**.\n",
    "\n",
    "The summation we obtained in the last problem is known as a Reimann Sum. If we let $\\Delta x \\rightarrow 0$ we get, the known result\n",
    "\\begin{equation}\n",
    " E = \\lim_{\\Delta x \\rightarrow 0} \\displaystyle\\sum_{i=0}^n \\frac{k\\lambda \\Delta x}{x_i^2} = \\int_d^{d+L} \\frac{k\\lambda}{x^2} dx.\n",
    "\\end{equation}\n",
    "\n",
    "\n",
    "\n"
   ]
  },
  {
   "cell_type": "code",
   "execution_count": 4,
   "metadata": {},
   "outputs": [
    {
     "name": "stdout",
     "output_type": "stream",
     "text": [
      "magnitude of field = 89918.0469446\n",
      "field vector = [-89918.04694457      0.        ]\n"
     ]
    },
    {
     "data": {
      "image/png": "[encoded data removed]",
      "text/plain": [
       "<matplotlib.figure.Figure at 0x7fe9541c6e80>"
      ]
     },
     "metadata": {},
     "output_type": "display_data"
    }
   ],
   "source": [
    "\n",
    "# pylint: disable=invalid-name\n",
    "\n",
    "XMIN, XMAX = -40, 40\n",
    "YMIN, YMAX = -30, 30\n",
    "ZOOM = 14\n",
    "XOFFSET = 0\n",
    "\n",
    "electrostatics.init(XMIN, XMAX, YMIN, YMAX, ZOOM, XOFFSET)\n",
    "\n",
    "# Set up the charges and electric field\n",
    "a = 2\n",
    "charges = [LineCharge(20.0e-6, [1, 0], [2, 0])]\n",
    "field = ElectricField(charges)\n",
    "\n",
    "print(\"magnitude of field =\",field.magnitude([0,0]))\n",
    "print(\"field vector =\",charges[0].E([0,0]))\n",
    "\n",
    "# Set up the Gaussian surface\n",
    "g = GaussianCircle([0, 0], 29)\n",
    "\n",
    "# Create the field lines\n",
    "fieldlines = []\n",
    "for x in g.fluxpoints(field, 12):\n",
    "    fieldlines.append(field.line(x))\n",
    "\n",
    "# Plotting\n",
    "#pyplot.figure(figsize=(6, 4.5))\n",
    "#pyplot.grid()\n",
    "#field.plot()\n",
    "\n",
    "\n",
    "for fieldline in fieldlines:\n",
    "    fieldline.plot()\n",
    "for charge in charges:\n",
    "    charge.plot()\n",
    "finalize_plot()\n",
    "pyplot.grid()\n",
    "pyplot.show()\n",
    "\n"
   ]
  },
  {
   "cell_type": "code",
   "execution_count": null,
   "metadata": {},
   "outputs": [],
   "source": []
  },
  {
   "cell_type": "code",
   "execution_count": null,
   "metadata": {
    "collapsed": true
   },
   "outputs": [],
   "source": []
  }
 ],
 "metadata": {
  "anaconda-cloud": {},
  "celltoolbar": "Hide code",
  "kernelspec": {
   "display_name": "py3",
   "language": "python",
   "name": "py3"
  },
  "language_info": {
   "codemirror_mode": {
    "name": "ipython",
    "version": 3
   },
   "file_extension": ".py",
   "mimetype": "text/x-python",
   "name": "python",
   "nbconvert_exporter": "python",
   "pygments_lexer": "ipython3",
   "version": "3.6.1"
  }
 },
 "nbformat": 4,
 "nbformat_minor": 1
}
